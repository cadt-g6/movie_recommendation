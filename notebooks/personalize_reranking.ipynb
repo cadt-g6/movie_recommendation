{
 "cells": [
  {
   "cell_type": "markdown",
   "metadata": {},
   "source": [
    "# Personalize Reranking\n",
    "## I. Setup"
   ]
  },
  {
   "cell_type": "code",
   "execution_count": 5,
   "metadata": {},
   "outputs": [],
   "source": [
    "import sys\n",
    "sys.path.append('..')"
   ]
  },
  {
   "cell_type": "code",
   "execution_count": 6,
   "metadata": {},
   "outputs": [],
   "source": [
    "from lib.types.dataset_type import DatasetType\n",
    "from lib.types.source_type import SourceType\n",
    "from lib.utils.utils import print_dict\n",
    "from lib.services.user_interest_service import UserInterestService\n",
    "from models.reRank_model import reRank_model\n",
    "\n",
    "import pandas as pd"
   ]
  },
  {
   "cell_type": "code",
   "execution_count": 7,
   "metadata": {},
   "outputs": [],
   "source": [
    "def construct_genre(genre):\n",
    "    return str(genre).lower().replace(\" \", \"\")\n",
    "\n",
    "\n",
    "def construct_genres_list(genres):\n",
    "    return \" \".join([construct_genre(genre) for genre in str(genres).split(\"|\")])"
   ]
  },
  {
   "cell_type": "markdown",
   "metadata": {},
   "source": [
    "## II. Find all user interests (genres)"
   ]
  },
  {
   "cell_type": "code",
   "execution_count": 8,
   "metadata": {},
   "outputs": [
    {
     "name": "stderr",
     "output_type": "stream",
     "text": [
      "/Users/theachoem/Coding/Pythons/movie_recommendation/notebooks/../lib/services/user_interest_service.py:33: DtypeWarning: Columns (0,1) have mixed types. Specify dtype option on import or set low_memory=False.\n",
      "  movies_df = pd.read_csv(\n",
      "/Users/theachoem/Coding/Pythons/movie_recommendation/notebooks/../lib/services/user_interest_service.py:59: SettingWithCopyWarning: \n",
      "A value is trying to be set on a copy of a slice from a DataFrame.\n",
      "Try using .loc[row_indexer,col_indexer] = value instead\n",
      "\n",
      "See the caveats in the documentation: https://pandas.pydata.org/pandas-docs/stable/user_guide/indexing.html#returning-a-view-versus-a-copy\n",
      "  rating_per_user_df['movie_id'] = rating_per_user_df['movie_id'].astype(\n"
     ]
    },
    {
     "data": {
      "text/plain": [
       "{'TV Movie': 4.0,\n",
       " 'Adventure': 3.875,\n",
       " 'Foreign': 3.6666666666666665,\n",
       " 'Western': 3.5,\n",
       " 'History': 3.5,\n",
       " 'Romance': 3.4642857142857144,\n",
       " 'Horror': 3.4444444444444446,\n",
       " 'Fantasy': 3.375,\n",
       " 'Science Fiction': 3.35,\n",
       " 'Drama': 3.3205128205128207,\n",
       " 'Action': 3.2857142857142856,\n",
       " 'Comedy': 3.272727272727273,\n",
       " 'Crime': 3.2666666666666666,\n",
       " 'Thriller': 3.261904761904762,\n",
       " 'Mystery': 3.142857142857143,\n",
       " 'Documentary': 2.5,\n",
       " 'Family': 2.0,\n",
       " 'Music': 2.0,\n",
       " 'Animation': 0.5}"
      ]
     },
     "execution_count": 8,
     "metadata": {},
     "output_type": "execute_result"
    }
   ],
   "source": [
    "service = UserInterestService(user_id=123963, source_prefix=\"..\")\n",
    "interest_dict = service.exec()\n",
    "interest_dict"
   ]
  },
  {
   "cell_type": "markdown",
   "metadata": {},
   "source": [
    "## III. Filter only good rated movies (rating > 3)"
   ]
  },
  {
   "cell_type": "code",
   "execution_count": 9,
   "metadata": {},
   "outputs": [
    {
     "data": {
      "text/plain": [
       "['tvmovie',\n",
       " 'adventure',\n",
       " 'foreign',\n",
       " 'western',\n",
       " 'history',\n",
       " 'romance',\n",
       " 'horror',\n",
       " 'fantasy',\n",
       " 'sciencefiction',\n",
       " 'drama',\n",
       " 'action',\n",
       " 'comedy',\n",
       " 'crime',\n",
       " 'thriller',\n",
       " 'mystery']"
      ]
     },
     "execution_count": 9,
     "metadata": {},
     "output_type": "execute_result"
    }
   ],
   "source": [
    "filtered_ratings = [construct_genre(genre)\n",
    "           for genre, rating in interest_dict.items() if rating >= 3]\n",
    "filtered_ratings"
   ]
  },
  {
   "cell_type": "markdown",
   "metadata": {},
   "source": [
    "## IV. Construct dataframe to rerank"
   ]
  },
  {
   "cell_type": "code",
   "execution_count": 10,
   "metadata": {},
   "outputs": [
    {
     "data": {
      "text/html": [
       "<div>\n",
       "<style scoped>\n",
       "    .dataframe tbody tr th:only-of-type {\n",
       "        vertical-align: middle;\n",
       "    }\n",
       "\n",
       "    .dataframe tbody tr th {\n",
       "        vertical-align: top;\n",
       "    }\n",
       "\n",
       "    .dataframe thead th {\n",
       "        text-align: right;\n",
       "    }\n",
       "</style>\n",
       "<table border=\"1\" class=\"dataframe\">\n",
       "  <thead>\n",
       "    <tr style=\"text-align: right;\">\n",
       "      <th></th>\n",
       "      <th>id</th>\n",
       "      <th>title</th>\n",
       "      <th>genres</th>\n",
       "    </tr>\n",
       "  </thead>\n",
       "  <tbody>\n",
       "    <tr>\n",
       "      <th>0</th>\n",
       "      <td>0</td>\n",
       "      <td>Fake</td>\n",
       "      <td>tvmovie adventure foreign western history roma...</td>\n",
       "    </tr>\n",
       "    <tr>\n",
       "      <th>1</th>\n",
       "      <td>38410</td>\n",
       "      <td>The Poughkeepsie Tapes</td>\n",
       "      <td>horror thriller</td>\n",
       "    </tr>\n",
       "    <tr>\n",
       "      <th>2</th>\n",
       "      <td>232034</td>\n",
       "      <td>The Desert Song</td>\n",
       "      <td>music romance</td>\n",
       "    </tr>\n",
       "    <tr>\n",
       "      <th>3</th>\n",
       "      <td>59333</td>\n",
       "      <td>Official Rejection</td>\n",
       "      <td>comedy documentary</td>\n",
       "    </tr>\n",
       "    <tr>\n",
       "      <th>4</th>\n",
       "      <td>97666</td>\n",
       "      <td>What a Mess!</td>\n",
       "      <td>comedy</td>\n",
       "    </tr>\n",
       "    <tr>\n",
       "      <th>5</th>\n",
       "      <td>297207</td>\n",
       "      <td>La pazza della porta accanto: conversazione co...</td>\n",
       "      <td>nan</td>\n",
       "    </tr>\n",
       "    <tr>\n",
       "      <th>6</th>\n",
       "      <td>166666</td>\n",
       "      <td>3096 Days</td>\n",
       "      <td>crime drama</td>\n",
       "    </tr>\n",
       "    <tr>\n",
       "      <th>7</th>\n",
       "      <td>299511</td>\n",
       "      <td>Steak (R)évolution</td>\n",
       "      <td>family documentary adventure</td>\n",
       "    </tr>\n",
       "    <tr>\n",
       "      <th>8</th>\n",
       "      <td>392734</td>\n",
       "      <td>Jeremiah Tower: The Last Magnificent</td>\n",
       "      <td>documentary</td>\n",
       "    </tr>\n",
       "    <tr>\n",
       "      <th>9</th>\n",
       "      <td>78278</td>\n",
       "      <td>Special Delivery</td>\n",
       "      <td>comedy</td>\n",
       "    </tr>\n",
       "    <tr>\n",
       "      <th>10</th>\n",
       "      <td>11291</td>\n",
       "      <td>The Brothers Lionheart</td>\n",
       "      <td>adventure fantasy family</td>\n",
       "    </tr>\n",
       "  </tbody>\n",
       "</table>\n",
       "</div>"
      ],
      "text/plain": [
       "        id                                              title  \\\n",
       "0        0                                               Fake   \n",
       "1    38410                             The Poughkeepsie Tapes   \n",
       "2   232034                                    The Desert Song   \n",
       "3    59333                                 Official Rejection   \n",
       "4    97666                                       What a Mess!   \n",
       "5   297207  La pazza della porta accanto: conversazione co...   \n",
       "6   166666                                          3096 Days   \n",
       "7   299511                                 Steak (R)évolution   \n",
       "8   392734               Jeremiah Tower: The Last Magnificent   \n",
       "9    78278                                   Special Delivery   \n",
       "10   11291                             The Brothers Lionheart   \n",
       "\n",
       "                                               genres  \n",
       "0   tvmovie adventure foreign western history roma...  \n",
       "1                                     horror thriller  \n",
       "2                                       music romance  \n",
       "3                                  comedy documentary  \n",
       "4                                              comedy  \n",
       "5                                                 nan  \n",
       "6                                         crime drama  \n",
       "7                        family documentary adventure  \n",
       "8                                         documentary  \n",
       "9                                              comedy  \n",
       "10                           adventure fantasy family  "
      ]
     },
     "execution_count": 10,
     "metadata": {},
     "output_type": "execute_result"
    }
   ],
   "source": [
    "ranking_df = []\n",
    "ranking_df.append([0, \"Fake\", \" \".join(filtered_ratings)])\n",
    "\n",
    "# search\n",
    "for row in service.movies_df.sample(10).values:\n",
    "    id = row[1]\n",
    "    title = row[5]\n",
    "    genres = construct_genres_list(row[9])\n",
    "    ranking_df.append([id, title, genres])\n",
    "\n",
    "\n",
    "df_to_rerank = pd.DataFrame(data=ranking_df, columns=[\"id\", \"title\", \"genres\"])\n",
    "df_to_rerank"
   ]
  },
  {
   "cell_type": "markdown",
   "metadata": {},
   "source": [
    "## V. Rerank dataframe with model"
   ]
  },
  {
   "cell_type": "code",
   "execution_count": 11,
   "metadata": {},
   "outputs": [
    {
     "data": {
      "text/html": [
       "<div>\n",
       "<style scoped>\n",
       "    .dataframe tbody tr th:only-of-type {\n",
       "        vertical-align: middle;\n",
       "    }\n",
       "\n",
       "    .dataframe tbody tr th {\n",
       "        vertical-align: top;\n",
       "    }\n",
       "\n",
       "    .dataframe thead th {\n",
       "        text-align: right;\n",
       "    }\n",
       "</style>\n",
       "<table border=\"1\" class=\"dataframe\">\n",
       "  <thead>\n",
       "    <tr style=\"text-align: right;\">\n",
       "      <th></th>\n",
       "      <th>id</th>\n",
       "      <th>title</th>\n",
       "      <th>accuracy_score</th>\n",
       "    </tr>\n",
       "  </thead>\n",
       "  <tbody>\n",
       "    <tr>\n",
       "      <th>0</th>\n",
       "      <td>1</td>\n",
       "      <td>The Poughkeepsie Tapes</td>\n",
       "      <td>0.365148</td>\n",
       "    </tr>\n",
       "    <tr>\n",
       "      <th>1</th>\n",
       "      <td>6</td>\n",
       "      <td>3096 Days</td>\n",
       "      <td>0.365148</td>\n",
       "    </tr>\n",
       "    <tr>\n",
       "      <th>2</th>\n",
       "      <td>10</td>\n",
       "      <td>The Brothers Lionheart</td>\n",
       "      <td>0.298142</td>\n",
       "    </tr>\n",
       "    <tr>\n",
       "      <th>3</th>\n",
       "      <td>4</td>\n",
       "      <td>What a Mess!</td>\n",
       "      <td>0.258199</td>\n",
       "    </tr>\n",
       "    <tr>\n",
       "      <th>4</th>\n",
       "      <td>9</td>\n",
       "      <td>Special Delivery</td>\n",
       "      <td>0.258199</td>\n",
       "    </tr>\n",
       "    <tr>\n",
       "      <th>5</th>\n",
       "      <td>2</td>\n",
       "      <td>The Desert Song</td>\n",
       "      <td>0.182574</td>\n",
       "    </tr>\n",
       "    <tr>\n",
       "      <th>6</th>\n",
       "      <td>3</td>\n",
       "      <td>Official Rejection</td>\n",
       "      <td>0.182574</td>\n",
       "    </tr>\n",
       "    <tr>\n",
       "      <th>7</th>\n",
       "      <td>7</td>\n",
       "      <td>Steak (R)évolution</td>\n",
       "      <td>0.149071</td>\n",
       "    </tr>\n",
       "    <tr>\n",
       "      <th>8</th>\n",
       "      <td>5</td>\n",
       "      <td>La pazza della porta accanto: conversazione co...</td>\n",
       "      <td>0.000000</td>\n",
       "    </tr>\n",
       "    <tr>\n",
       "      <th>9</th>\n",
       "      <td>8</td>\n",
       "      <td>Jeremiah Tower: The Last Magnificent</td>\n",
       "      <td>0.000000</td>\n",
       "    </tr>\n",
       "  </tbody>\n",
       "</table>\n",
       "</div>"
      ],
      "text/plain": [
       "   id                                              title  accuracy_score\n",
       "0   1                             The Poughkeepsie Tapes        0.365148\n",
       "1   6                                          3096 Days        0.365148\n",
       "2  10                             The Brothers Lionheart        0.298142\n",
       "3   4                                       What a Mess!        0.258199\n",
       "4   9                                   Special Delivery        0.258199\n",
       "5   2                                    The Desert Song        0.182574\n",
       "6   3                                 Official Rejection        0.182574\n",
       "7   7                                 Steak (R)évolution        0.149071\n",
       "8   5  La pazza della porta accanto: conversazione co...        0.000000\n",
       "9   8               Jeremiah Tower: The Last Magnificent        0.000000"
      ]
     },
     "execution_count": 11,
     "metadata": {},
     "output_type": "execute_result"
    }
   ],
   "source": [
    "model = reRank_model('Fake', df_to_rerank)\n",
    "result_df = model.reRankBasedOnUserInterest()\n",
    "result_df"
   ]
  }
 ],
 "metadata": {
  "interpreter": {
   "hash": "40d3a090f54c6569ab1632332b64b2c03c39dcf918b08424e98f38b5ae0af88f"
  },
  "kernelspec": {
   "display_name": "Python 3.8.11 ('base')",
   "language": "python",
   "name": "python3"
  },
  "language_info": {
   "codemirror_mode": {
    "name": "ipython",
    "version": 3
   },
   "file_extension": ".py",
   "mimetype": "text/x-python",
   "name": "python",
   "nbconvert_exporter": "python",
   "pygments_lexer": "ipython3",
   "version": "3.8.11"
  },
  "orig_nbformat": 4
 },
 "nbformat": 4,
 "nbformat_minor": 2
}
