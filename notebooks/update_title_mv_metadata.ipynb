{
 "cells": [
  {
   "cell_type": "markdown",
   "metadata": {},
   "source": [
    "# Update title\n"
   ]
  },
  {
   "cell_type": "code",
   "execution_count": 12,
   "metadata": {},
   "outputs": [],
   "source": [
    "import sys\n",
    "sys.path.append('..')\n"
   ]
  },
  {
   "cell_type": "code",
   "execution_count": 13,
   "metadata": {},
   "outputs": [],
   "source": [
    "import pandas as pd\n",
    "\n",
    "from lib.types.dataset_type import DatasetType\n",
    "from lib.types.source_type import SourceType\n",
    "from lib.utils.helper import Helper\n",
    "from lib.utils.utils import write_csv\n"
   ]
  },
  {
   "cell_type": "code",
   "execution_count": 14,
   "metadata": {},
   "outputs": [
    {
     "data": {
      "text/html": [
       "<div>\n",
       "<style scoped>\n",
       "    .dataframe tbody tr th:only-of-type {\n",
       "        vertical-align: middle;\n",
       "    }\n",
       "\n",
       "    .dataframe tbody tr th {\n",
       "        vertical-align: top;\n",
       "    }\n",
       "\n",
       "    .dataframe thead th {\n",
       "        text-align: right;\n",
       "    }\n",
       "</style>\n",
       "<table border=\"1\" class=\"dataframe\">\n",
       "  <thead>\n",
       "    <tr style=\"text-align: right;\">\n",
       "      <th></th>\n",
       "      <th>adult</th>\n",
       "      <th>belongs_to_collection</th>\n",
       "      <th>budget</th>\n",
       "      <th>genres</th>\n",
       "      <th>homepage</th>\n",
       "      <th>id</th>\n",
       "      <th>imdb_id</th>\n",
       "      <th>original_language</th>\n",
       "      <th>original_title</th>\n",
       "      <th>overview</th>\n",
       "      <th>...</th>\n",
       "      <th>release_date</th>\n",
       "      <th>revenue</th>\n",
       "      <th>runtime</th>\n",
       "      <th>spoken_languages</th>\n",
       "      <th>status</th>\n",
       "      <th>tagline</th>\n",
       "      <th>title</th>\n",
       "      <th>video</th>\n",
       "      <th>vote_average</th>\n",
       "      <th>vote_count</th>\n",
       "    </tr>\n",
       "  </thead>\n",
       "  <tbody>\n",
       "    <tr>\n",
       "      <th>26566</th>\n",
       "      <td>False</td>\n",
       "      <td>{'id': 131295, 'name': 'Captain America Collec...</td>\n",
       "      <td>250000000</td>\n",
       "      <td>[{'id': 12, 'name': 'Adventure'}, {'id': 28, '...</td>\n",
       "      <td>http://marvel.com/captainamericapremiere</td>\n",
       "      <td>271110</td>\n",
       "      <td>tt3498820</td>\n",
       "      <td>en</td>\n",
       "      <td>Captain America: Civil War</td>\n",
       "      <td>Following the events of Age of Ultron, the col...</td>\n",
       "      <td>...</td>\n",
       "      <td>2016-04-27</td>\n",
       "      <td>1153304495</td>\n",
       "      <td>147.0</td>\n",
       "      <td>[{'iso_639_1': 'ro', 'name': 'Română'}, {'iso_...</td>\n",
       "      <td>Released</td>\n",
       "      <td>Divided We Fall</td>\n",
       "      <td>Captain America: Civil War</td>\n",
       "      <td>False</td>\n",
       "      <td>7.1</td>\n",
       "      <td>7462</td>\n",
       "    </tr>\n",
       "  </tbody>\n",
       "</table>\n",
       "<p>1 rows × 24 columns</p>\n",
       "</div>"
      ],
      "text/plain": [
       "       adult                              belongs_to_collection     budget  \\\n",
       "26566  False  {'id': 131295, 'name': 'Captain America Collec...  250000000   \n",
       "\n",
       "                                                  genres  \\\n",
       "26566  [{'id': 12, 'name': 'Adventure'}, {'id': 28, '...   \n",
       "\n",
       "                                       homepage      id    imdb_id  \\\n",
       "26566  http://marvel.com/captainamericapremiere  271110  tt3498820   \n",
       "\n",
       "      original_language              original_title  \\\n",
       "26566                en  Captain America: Civil War   \n",
       "\n",
       "                                                overview  ...  release_date  \\\n",
       "26566  Following the events of Age of Ultron, the col...  ...    2016-04-27   \n",
       "\n",
       "          revenue runtime                                   spoken_languages  \\\n",
       "26566  1153304495   147.0  [{'iso_639_1': 'ro', 'name': 'Română'}, {'iso_...   \n",
       "\n",
       "         status          tagline                       title  video  \\\n",
       "26566  Released  Divided We Fall  Captain America: Civil War  False   \n",
       "\n",
       "      vote_average vote_count  \n",
       "26566          7.1       7462  \n",
       "\n",
       "[1 rows x 24 columns]"
      ]
     },
     "execution_count": 14,
     "metadata": {},
     "output_type": "execute_result"
    }
   ],
   "source": [
    "movie_df = pd.read_csv(DatasetType.movies_metadata.original_path())\n",
    "movie_df[movie_df['title'] == 'Captain America: Civil War']\n"
   ]
  },
  {
   "cell_type": "code",
   "execution_count": 15,
   "metadata": {},
   "outputs": [
    {
     "data": {
      "text/plain": [
       "adult                                                                False\n",
       "belongs_to_collection    {'id': 131295, 'name': 'Captain America Collec...\n",
       "budget                                                           250000000\n",
       "genres                   [{'id': 12, 'name': 'Adventure'}, {'id': 28, '...\n",
       "homepage                          http://marvel.com/captainamericapremiere\n",
       "id                                                                  271110\n",
       "imdb_id                                                          tt3498820\n",
       "original_language                                                       en\n",
       "original_title                                  Captain America: Civil War\n",
       "overview                 Following the events of Age of Ultron, the col...\n",
       "popularity                                                      145.882135\n",
       "poster_path                               /kSBXou5Ac7vEqKd97wotJumyJvU.jpg\n",
       "production_companies     [{'name': 'Studio Babelsberg', 'id': 264}, {'n...\n",
       "production_countries     [{'iso_3166_1': 'US', 'name': 'United States o...\n",
       "release_date                                                    2016-04-27\n",
       "revenue                                                         1153304495\n",
       "runtime                                                              147.0\n",
       "spoken_languages         [{'iso_639_1': 'ro', 'name': 'Română'}, {'iso_...\n",
       "status                                                            Released\n",
       "tagline                                                    Divided We Fall\n",
       "title                                            Captain America Civil War\n",
       "video                                                                False\n",
       "vote_average                                                           7.1\n",
       "vote_count                                                            7462\n",
       "Name: 26566, dtype: object"
      ]
     },
     "execution_count": 15,
     "metadata": {},
     "output_type": "execute_result"
    }
   ],
   "source": [
    "def apply(row: pd.Series):\n",
    "    row['title'] = Helper.encode_title(str(row['title']))\n",
    "    return row\n",
    "\n",
    "\n",
    "movie_df = movie_df.apply(lambda x: apply(x), axis=1)\n",
    "movie_df.loc[26566]\n"
   ]
  },
  {
   "cell_type": "code",
   "execution_count": 16,
   "metadata": {},
   "outputs": [],
   "source": [
    "write_csv(df=movie_df, path=DatasetType.movies_metadata.path(\n",
    "    source=SourceType.v2))\n"
   ]
  }
 ],
 "metadata": {
  "interpreter": {
   "hash": "40d3a090f54c6569ab1632332b64b2c03c39dcf918b08424e98f38b5ae0af88f"
  },
  "kernelspec": {
   "display_name": "Python 3.8.11 ('base')",
   "language": "python",
   "name": "python3"
  },
  "language_info": {
   "codemirror_mode": {
    "name": "ipython",
    "version": 3
   },
   "file_extension": ".py",
   "mimetype": "text/x-python",
   "name": "python",
   "nbconvert_exporter": "python",
   "pygments_lexer": "ipython3",
   "version": "3.8.11"
  },
  "orig_nbformat": 4
 },
 "nbformat": 4,
 "nbformat_minor": 2
}
