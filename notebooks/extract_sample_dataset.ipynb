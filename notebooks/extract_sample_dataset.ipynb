{
 "cells": [
  {
   "cell_type": "markdown",
   "metadata": {},
   "source": [
    "# Extract sample datasets\n",
    "\n",
    "Since we have very big datasets, loading them might be a little bit slow. So we extract some sample data to new csv file.\n"
   ]
  },
  {
   "cell_type": "code",
   "execution_count": 1,
   "metadata": {},
   "outputs": [],
   "source": [
    "import sys\n",
    "sys.path.append('..')\n"
   ]
  },
  {
   "cell_type": "markdown",
   "metadata": {},
   "source": [
    "## Setup\n"
   ]
  },
  {
   "cell_type": "code",
   "execution_count": 2,
   "metadata": {},
   "outputs": [],
   "source": [
    "import pandas as pd\n",
    "from lib.utils.utils import write_csv\n",
    "\n",
    "original_path = \"../datasets/original\"\n",
    "destination_path = \"../datasets/samples\"\n",
    "\n",
    "credit_path = \"credits.csv\"\n",
    "keywords_path = \"keywords.csv\"\n",
    "links_small_path = \"links_small.csv\"\n",
    "links_path = \"links.csv\"\n",
    "movies_metadata_path = \"movies_metadata.csv\"\n",
    "ratings_small_path = \"ratings_small.csv\"\n",
    "ratings_path = \"ratings.csv\"\n",
    "\n",
    "paths = [\n",
    "    credit_path,\n",
    "    keywords_path,\n",
    "    links_small_path,\n",
    "    links_path,\n",
    "    movies_metadata_path,\n",
    "    ratings_small_path,\n",
    "    ratings_path\n",
    "]\n"
   ]
  },
  {
   "cell_type": "markdown",
   "metadata": {},
   "source": [
    "## Read CSV files\n"
   ]
  },
  {
   "cell_type": "code",
   "execution_count": 3,
   "metadata": {},
   "outputs": [
    {
     "name": "stderr",
     "output_type": "stream",
     "text": [
      "/Users/theachoem/Library/Python/3.8/lib/python/site-packages/IPython/core/interactiveshell.py:3444: DtypeWarning: Columns (10) have mixed types.Specify dtype option on import or set low_memory=False.\n",
      "  exec(code_obj, self.user_global_ns, self.user_ns)\n"
     ]
    }
   ],
   "source": [
    "# cdf = pd.read_csv(original_path + \"/\" + credit_path)\n",
    "# len(cdf)\n",
    "\n",
    "dfs = {}\n",
    "\n",
    "for path in paths:\n",
    "    df = pd.read_csv(original_path + \"/\" + path)\n",
    "    dfs[path] = df\n"
   ]
  },
  {
   "cell_type": "markdown",
   "metadata": {},
   "source": [
    "## Get smallest length\n"
   ]
  },
  {
   "cell_type": "code",
   "execution_count": null,
   "metadata": {},
   "outputs": [
    {
     "name": "stdout",
     "output_type": "stream",
     "text": [
      "path: credits.csv, length: 45476\n",
      "path: keywords.csv, length: 46419\n",
      "path: links_small.csv, length: 9125\n",
      "path: links.csv, length: 45843\n",
      "path: movies_metadata.csv, length: 45466\n",
      "path: ratings_small.csv, length: 100004\n",
      "path: ratings.csv, length: 26024289\n",
      "\n",
      "LENGTHS: [9125, 45466, 45476, 45843, 46419, 100004, 26024289]\n",
      "SMALLEST: 9125\n"
     ]
    }
   ],
   "source": [
    "for key in dfs:\n",
    "    print(\"path: {}, length: {}\".format(key, len(dfs[key])))\n",
    "\n",
    "lengths = [len(df) for df in dfs.values()]\n",
    "lengths.sort()\n",
    "\n",
    "smallest_length = lengths[0]\n",
    "\n",
    "print(\"\\nLENGTHS: {}\".format(lengths))\n",
    "print(\"SMALLEST: {}\".format(smallest_length))\n"
   ]
  },
  {
   "cell_type": "code",
   "execution_count": null,
   "metadata": {},
   "outputs": [
    {
     "name": "stdout",
     "output_type": "stream",
     "text": [
      "SMALLEST: 1000\n"
     ]
    }
   ],
   "source": [
    "# 9125 is still a big number, so we set its maximum rows length down to 1000 instead.\n",
    "smallest_length = min(1000, smallest_length)\n",
    "print(\"SMALLEST: {}\".format(smallest_length))\n"
   ]
  },
  {
   "cell_type": "markdown",
   "metadata": {},
   "source": [
    "## Write to CSVs\n"
   ]
  },
  {
   "cell_type": "code",
   "execution_count": null,
   "metadata": {},
   "outputs": [],
   "source": [
    "for key in dfs:\n",
    "    df: pd.DataFrame = dfs[key]\n",
    "    df = df.head(smallest_length)\n",
    "    write_csv(destination_path + \"/\" + key, df)\n"
   ]
  }
 ],
 "metadata": {
  "interpreter": {
   "hash": "20bf69066c0dd38d51965b69d5e1b6e387082e3198ba56e97997ac55f4e50ad0"
  },
  "kernelspec": {
   "display_name": "Python 3.8.9 64-bit",
   "language": "python",
   "name": "python3"
  },
  "language_info": {
   "codemirror_mode": {
    "name": "ipython",
    "version": 3
   },
   "file_extension": ".py",
   "mimetype": "text/x-python",
   "name": "python",
   "nbconvert_exporter": "python",
   "pygments_lexer": "ipython3",
   "version": "3.8.9"
  },
  "orig_nbformat": 4
 },
 "nbformat": 4,
 "nbformat_minor": 2
}
