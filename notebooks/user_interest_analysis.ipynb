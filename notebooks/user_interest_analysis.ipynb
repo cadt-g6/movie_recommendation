{
 "cells": [
  {
   "cell_type": "markdown",
   "metadata": {},
   "source": [
    "# User Intereset Analysis\n",
    "\n",
    "## I. Setup\n"
   ]
  },
  {
   "cell_type": "code",
   "execution_count": 1,
   "metadata": {},
   "outputs": [],
   "source": [
    "import sys\n",
    "sys.path.append('..')\n"
   ]
  },
  {
   "cell_type": "code",
   "execution_count": 2,
   "metadata": {},
   "outputs": [],
   "source": [
    "import pandas as pd\n",
    "\n",
    "from lib.types.dataset_type import DatasetType\n",
    "from lib.types.source_type import SourceType\n"
   ]
  },
  {
   "cell_type": "code",
   "execution_count": 3,
   "metadata": {},
   "outputs": [],
   "source": [
    "source_path: SourceType = SourceType.original\n"
   ]
  },
  {
   "cell_type": "markdown",
   "metadata": {},
   "source": [
    "## II. Read CSVs\n"
   ]
  },
  {
   "cell_type": "code",
   "execution_count": 4,
   "metadata": {},
   "outputs": [],
   "source": [
    "def fetch_movie_df() -> pd.DataFrame:\n",
    "    movies_df = pd.read_csv(DatasetType.movies_metadata.cleaned_path())\n",
    "    movies_df.rename(\n",
    "        columns={'id': 'movie_id'},\n",
    "        inplace=True\n",
    "    )\n",
    "    return movies_df\n",
    "\n",
    "\n",
    "def fetch_rating_df() -> pd.DataFrame:\n",
    "    rating_df = pd.read_csv(DatasetType.ratings.original_path())\n",
    "    rating_df.rename(\n",
    "        columns={'userId': 'user_id', 'movieId': 'movie_id'},\n",
    "        inplace=True\n",
    "    )\n",
    "    return rating_df\n"
   ]
  },
  {
   "cell_type": "markdown",
   "metadata": {},
   "source": [
    "## Exploration\n"
   ]
  },
  {
   "cell_type": "code",
   "execution_count": 5,
   "metadata": {},
   "outputs": [
    {
     "name": "stderr",
     "output_type": "stream",
     "text": [
      "/var/folders/g8/wgj905m158gbcnzm6q5v9y2r0000gn/T/ipykernel_17068/3096625775.py:2: DtypeWarning: Columns (0,1) have mixed types. Specify dtype option on import or set low_memory=False.\n",
      "  movies_df = pd.read_csv(DatasetType.movies_metadata.cleaned_path())\n"
     ]
    },
    {
     "data": {
      "text/plain": [
       "(45464, 18)"
      ]
     },
     "execution_count": 5,
     "metadata": {},
     "output_type": "execute_result"
    }
   ],
   "source": [
    "movies_df = fetch_movie_df()\n",
    "movies_df.shape\n"
   ]
  },
  {
   "cell_type": "code",
   "execution_count": 6,
   "metadata": {},
   "outputs": [
    {
     "data": {
      "text/plain": [
       "(26024289, 4)"
      ]
     },
     "execution_count": 6,
     "metadata": {},
     "output_type": "execute_result"
    }
   ],
   "source": [
    "rating_df = fetch_rating_df()\n",
    "rating_df.shape\n"
   ]
  },
  {
   "cell_type": "markdown",
   "metadata": {},
   "source": [
    "## II. Find all genres\n"
   ]
  },
  {
   "cell_type": "code",
   "execution_count": 7,
   "metadata": {},
   "outputs": [],
   "source": [
    "def find_all_genres(genres: pd.Series):\n",
    "    genres = genres.str.split(\"|\")\n",
    "    genres_cleaned = [item for item in genres.to_list()\n",
    "                      if isinstance(item, list)]\n",
    "\n",
    "    all_movie_genres = \"|\".join([\n",
    "        \"|\".join(i)\n",
    "        for i in genres_cleaned\n",
    "    ]).split(\"|\")\n",
    "\n",
    "    all_movie_genres = set(all_movie_genres)\n",
    "    return list(all_movie_genres)\n"
   ]
  },
  {
   "cell_type": "code",
   "execution_count": 8,
   "metadata": {},
   "outputs": [
    {
     "data": {
      "text/plain": [
       "'Comedy | Animation | Action | Adventure | Documentary | Foreign | TV Movie | Mardock Scramble Production Committee | Horror | Fantasy | Aniplex | Science Fiction | Romance | Crime | GoHands | Thriller | Western | War | Drama | BROSTA TV | Mystery | Music | History | Family | Sentai Filmworks'"
      ]
     },
     "execution_count": 8,
     "metadata": {},
     "output_type": "execute_result"
    }
   ],
   "source": [
    "all_genres = find_all_genres(movies_df['genres'])\n",
    "\" | \".join(all_genres)\n"
   ]
  },
  {
   "cell_type": "markdown",
   "metadata": {},
   "source": [
    "## II. User interest per user\n"
   ]
  },
  {
   "cell_type": "code",
   "execution_count": 9,
   "metadata": {},
   "outputs": [
    {
     "name": "stderr",
     "output_type": "stream",
     "text": [
      "/var/folders/g8/wgj905m158gbcnzm6q5v9y2r0000gn/T/ipykernel_17068/1792155427.py:4: SettingWithCopyWarning: \n",
      "A value is trying to be set on a copy of a slice from a DataFrame.\n",
      "Try using .loc[row_indexer,col_indexer] = value instead\n",
      "\n",
      "See the caveats in the documentation: https://pandas.pydata.org/pandas-docs/stable/user_guide/indexing.html#returning-a-view-versus-a-copy\n",
      "  rating_per_user_df['movie_id'] = rating_per_user_df['movie_id'].astype(str)\n"
     ]
    }
   ],
   "source": [
    "def fetch_rating_per_user_df(user_id: int):\n",
    "\n",
    "    rating_per_user_df = rating_df[rating_df['user_id'] == user_id]\n",
    "    rating_per_user_df['movie_id'] = rating_per_user_df['movie_id'].astype(str)\n",
    "\n",
    "    return rating_per_user_df\n",
    "\n",
    "\n",
    "def fetch_movies_per_user_df(rating_per_user_df: pd.DataFrame):\n",
    "    movies_per_user_df = pd.merge(\n",
    "        left=rating_per_user_df,\n",
    "        right=movies_df,\n",
    "        on='movie_id'\n",
    "    )\n",
    "    return movies_per_user_df\n",
    "\n",
    "\n",
    "user_id = 123963\n",
    "rating_per_user_df = fetch_rating_per_user_df(user_id=user_id)\n",
    "movies_per_user_df = fetch_movies_per_user_df(rating_per_user_df)\n"
   ]
  },
  {
   "cell_type": "code",
   "execution_count": 10,
   "metadata": {},
   "outputs": [
    {
     "data": {
      "text/plain": [
       "(73, 21)"
      ]
     },
     "execution_count": 10,
     "metadata": {},
     "output_type": "execute_result"
    }
   ],
   "source": [
    "movies_per_user_df.shape\n"
   ]
  },
  {
   "cell_type": "code",
   "execution_count": 11,
   "metadata": {},
   "outputs": [
    {
     "data": {
      "text/plain": [
       "'HERE IS ALL GENRES THAT USER HAVE RATED:Comedy | Animation | Action | Adventure | Documentary | Foreign | TV Movie | Horror | Fantasy | Science Fiction | Romance | Crime | Thriller | Western | Drama | Mystery | Music | History | Family'"
      ]
     },
     "execution_count": 11,
     "metadata": {},
     "output_type": "execute_result"
    }
   ],
   "source": [
    "\"HERE IS ALL GENRES THAT USER HAVE RATED:\" + \" | \".join(find_all_genres(movies_per_user_df['genres']))\n"
   ]
  },
  {
   "cell_type": "markdown",
   "metadata": {},
   "source": [
    "## III. Average rating for each each genre"
   ]
  },
  {
   "cell_type": "code",
   "execution_count": 12,
   "metadata": {},
   "outputs": [],
   "source": [
    "def get_avg_rating_dict(input_df: pd.DataFrame):\n",
    "    rating_dict = {}\n",
    "    avg_rating_dict = {}\n",
    "\n",
    "    for row in input_df.values:\n",
    "        # movie_id = row[1]\n",
    "        rating = row[2]\n",
    "        genres = row[12]\n",
    "\n",
    "        for genre in str(genres).split(\"|\"):\n",
    "            if(rating_dict.get(genre) == None):\n",
    "                rating_dict[genre] = []\n",
    "            rating_dict[genre].append(rating)\n",
    "\n",
    "    for key, value in rating_dict.items():\n",
    "        avg_rating_dict[key] = sum(value) / len(value)\n",
    "\n",
    "    dict_sorted = sorted(\n",
    "        avg_rating_dict.items(),\n",
    "        key=lambda element: element[1],\n",
    "        reverse=True,\n",
    "    )\n",
    "\n",
    "    avg_rating_dict = {key: value for key, value in dict_sorted}\n",
    "    return avg_rating_dict"
   ]
  },
  {
   "cell_type": "code",
   "execution_count": 13,
   "metadata": {},
   "outputs": [
    {
     "name": "stdout",
     "output_type": "stream",
     "text": [
      "HERE IS AVERAGE RATING FOR GENRE FOR USER: 123963\n"
     ]
    },
    {
     "data": {
      "text/plain": [
       "{'TV Movie': 4.0,\n",
       " 'Adventure': 3.875,\n",
       " 'Foreign': 3.6666666666666665,\n",
       " 'Western': 3.5,\n",
       " 'History': 3.5,\n",
       " 'Romance': 3.4642857142857144,\n",
       " 'Horror': 3.4444444444444446,\n",
       " 'Fantasy': 3.375,\n",
       " 'Science Fiction': 3.35,\n",
       " 'Drama': 3.3205128205128207,\n",
       " 'Action': 3.2857142857142856,\n",
       " 'Comedy': 3.272727272727273,\n",
       " 'Crime': 3.2666666666666666,\n",
       " 'Thriller': 3.261904761904762,\n",
       " 'Mystery': 3.142857142857143,\n",
       " 'Documentary': 2.5,\n",
       " 'Family': 2.0,\n",
       " 'Music': 2.0,\n",
       " 'Animation': 0.5}"
      ]
     },
     "execution_count": 13,
     "metadata": {},
     "output_type": "execute_result"
    }
   ],
   "source": [
    "print(\"HERE IS AVERAGE RATING FOR GENRE FOR USER: {}\".format(user_id))\n",
    "avg_rating_dict = get_avg_rating_dict(movies_per_user_df)\n",
    "avg_rating_dict"
   ]
  }
 ],
 "metadata": {
  "interpreter": {
   "hash": "40d3a090f54c6569ab1632332b64b2c03c39dcf918b08424e98f38b5ae0af88f"
  },
  "kernelspec": {
   "display_name": "Python 3.8.11 ('base')",
   "language": "python",
   "name": "python3"
  },
  "language_info": {
   "codemirror_mode": {
    "name": "ipython",
    "version": 3
   },
   "file_extension": ".py",
   "mimetype": "text/x-python",
   "name": "python",
   "nbconvert_exporter": "python",
   "pygments_lexer": "ipython3",
   "version": "3.8.11"
  },
  "orig_nbformat": 4
 },
 "nbformat": 4,
 "nbformat_minor": 2
}
